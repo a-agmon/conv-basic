{
 "cells": [
  {
   "cell_type": "code",
   "execution_count": 1,
   "id": "4fd5425d-432d-4b9a-afb6-830d29c8d241",
   "metadata": {},
   "outputs": [],
   "source": [
    "import ollama"
   ]
  },
  {
   "cell_type": "code",
   "execution_count": 2,
   "id": "f8aa55af-e9c9-4419-8737-f2842a4a3bb0",
   "metadata": {},
   "outputs": [
    {
     "name": "stdout",
     "output_type": "stream",
     "text": [
      "models=[Model(model='tinyllama:latest', modified_at=datetime.datetime(2025, 3, 27, 10, 47, 2, 977662, tzinfo=TzInfo(UTC)), digest='2644915ede352ea7bdfaff0bfac0be74c719d5d5202acb63a6fb095b52f394a4', size=637700138, details=ModelDetails(parent_model='', format='gguf', family='llama', families=['llama'], parameter_size='1B', quantization_level='Q4_0'))]\n"
     ]
    }
   ],
   "source": [
    "models = ollama.list()\n",
    "print(models)"
   ]
  },
  {
   "cell_type": "code",
   "execution_count": 3,
   "id": "b6d2cff6-e8e5-44f1-aa01-565c759e2476",
   "metadata": {},
   "outputs": [],
   "source": [
    "import requests\n",
    "import json\n",
    "import os\n",
    "from typing import List, Dict, Any"
   ]
  },
  {
   "cell_type": "code",
   "execution_count": 4,
   "id": "1e95078e-b56e-4ce0-a42e-b4b7229e3820",
   "metadata": {},
   "outputs": [],
   "source": [
    "OLLAMA_API_URL = \"http://localhost:11434\""
   ]
  },
  {
   "cell_type": "code",
   "execution_count": 5,
   "id": "192ff49d-c92c-46f2-b0a6-b71fccd0200d",
   "metadata": {},
   "outputs": [],
   "source": [
    "chat_url = f\"{OLLAMA_API_URL}/api/chat\""
   ]
  },
  {
   "cell_type": "code",
   "execution_count": 6,
   "id": "66c0f733-7b68-49b3-b476-5082fc2985ea",
   "metadata": {},
   "outputs": [],
   "source": [
    "sys_prompt = \"\"\"\n",
    "you are an AI assistant that helps users buy flights tickets. \n",
    "When you gather from the user where they want to travel and when then response with this format\n",
    "FLIGHT_REQ:London (June)\n",
    "\"\"\""
   ]
  },
  {
   "cell_type": "code",
   "execution_count": 7,
   "id": "cdcd76b0-2115-4edd-95f5-628be7328d0e",
   "metadata": {},
   "outputs": [],
   "source": [
    "messages = []\n",
    "messages.append({\"role\": \"system\", \"content\": sys_prompt})\n",
    "messages.append({\"role\": \"assistant\", \"content\": \"Im your flights assistant, I will help you purchase flight tickets\"})"
   ]
  },
  {
   "cell_type": "code",
   "execution_count": 8,
   "id": "fb011491-1f5c-425a-b7df-cbf7ba4be0ac",
   "metadata": {},
   "outputs": [],
   "source": [
    "messages.append({\"role\": \"user\", \"content\": \"I would like to go to paris\"})\n",
    "messages.append({\"role\": \"assistant\", \"content\": \"Great! when would you like to go?\"})\n",
    "messages.append({\"role\": \"user\", \"content\": \"On July\"})\n",
    "messages.append({\"role\": \"assistant\", \"content\": \"FLIGHT_REQ:Paris (July)\"})\n",
    "messages.append({\"role\": \"user\", \"content\": \"I would like to go to Berlin\"})\n",
    "messages.append({\"role\": \"assistant\", \"content\": \"Great! when would you like to go?\"})\n",
    "messages.append({\"role\": \"user\", \"content\": \"On September\"})"
   ]
  },
  {
   "cell_type": "code",
   "execution_count": 9,
   "id": "7c69c62a-c759-491c-8edd-bdbc337bda92",
   "metadata": {},
   "outputs": [],
   "source": [
    " payload = {\n",
    "            \"model\": \"tinyllama:latest\",\n",
    "             \"stream\":False,\n",
    "             \"options\":{\n",
    "              \"temperature\": 0.8,\n",
    "             },\n",
    "            \"messages\": messages,\n",
    "}"
   ]
  },
  {
   "cell_type": "code",
   "execution_count": 10,
   "id": "894feccb-ddc8-4c8b-bd98-f85304f0e00f",
   "metadata": {},
   "outputs": [],
   "source": [
    "headers = {\n",
    "    \"Content-Type\": \"application/json\",\n",
    "    \"Accept\": \"application/json\"\n",
    "}"
   ]
  },
  {
   "cell_type": "code",
   "execution_count": 11,
   "id": "cdcb73b1-bede-4628-936d-1d059dedd207",
   "metadata": {},
   "outputs": [],
   "source": [
    "response = requests.post(chat_url, json=payload, stream=False, headers=headers)"
   ]
  },
  {
   "cell_type": "code",
   "execution_count": 12,
   "id": "102b6aea-84e8-4072-a2c2-79cf099f0021",
   "metadata": {},
   "outputs": [
    {
     "data": {
      "text/plain": [
       "{'model': 'tinyllama:latest',\n",
       " 'created_at': '2025-03-27T14:15:38.818387503Z',\n",
       " 'message': {'role': 'assistant', 'content': 'FLIGHT_REQ:Berlin (September)'},\n",
       " 'done_reason': 'stop',\n",
       " 'done': True,\n",
       " 'total_duration': 2920067001,\n",
       " 'load_duration': 535243834,\n",
       " 'prompt_eval_count': 241,\n",
       " 'prompt_eval_duration': 2019374501,\n",
       " 'eval_count': 17,\n",
       " 'eval_duration': 363343750}"
      ]
     },
     "execution_count": 12,
     "metadata": {},
     "output_type": "execute_result"
    }
   ],
   "source": [
    "response.json()"
   ]
  },
  {
   "cell_type": "code",
   "execution_count": 13,
   "id": "955d79fc-506e-4252-b398-7e47f2a3b514",
   "metadata": {},
   "outputs": [
    {
     "name": "stdout",
     "output_type": "stream",
     "text": [
      "FLIGHT_REQ:Berlin (September)\n"
     ]
    }
   ],
   "source": [
    "print(response.json()['message']['content'])"
   ]
  },
  {
   "cell_type": "code",
   "execution_count": 14,
   "id": "fc1ee754-da2f-471c-b497-e4cef57a7d1b",
   "metadata": {},
   "outputs": [],
   "source": [
    "def send_llm(messages):\n",
    "    payload = {\n",
    "        \"model\": \"tinyllama:latest\",\n",
    "         \"stream\":False,\n",
    "        \"messages\": messages,\n",
    "    }\n",
    "    headers = {\n",
    "    \"Content-Type\": \"application/json\",\n",
    "    \"Accept\": \"application/json\"\n",
    "    }\n",
    "    response = requests.post(chat_url, json=payload, stream=False, headers=headers)\n",
    "    return response.json()['message']['content']"
   ]
  },
  {
   "cell_type": "code",
   "execution_count": null,
   "id": "e3a9ebbb-6763-4810-81f1-5c818c7d5a09",
   "metadata": {},
   "outputs": [
    {
     "name": "stdout",
     "output_type": "stream",
     "text": [
      "Assistant: \n",
      "you are an AI assistant that helps users buy flights tickets. \n",
      "When you gather from the user where they want to travel and when then response with this format\n",
      "FLIGHT_REQ:London (June)\n",
      "\n",
      "Assistant: Im your flights assistant, I will help you purchase flight tickets\n",
      "You: I would like to go to paris\n",
      "Assistant: Great! when would you like to go?\n",
      "You: On July\n",
      "Assistant: FLIGHT_REQ:Paris (July)\n",
      "You: I would like to go to Berlin\n",
      "Assistant: Great! when would you like to go?\n",
      "You: On September\n",
      "You: I would like to go to Vienna\n",
      "Assistant: FLIGHT_REQ:Vienna (Sept)\n",
      "You: I would like to go to Romania\n",
      "Assistant: Great! when would you like to go?\n",
      "You: On April\n",
      "Assistant: FLIGHT_REQ:Romania (Apr)\n",
      "\n",
      "--------------------------------------------------\n",
      "\n"
     ]
    }
   ],
   "source": [
    "from IPython.display import clear_output\n",
    "# Initialize conversation history\n",
    "#messages = []\n",
    "\n",
    "while True:\n",
    "    # Get user input\n",
    "    user_message = input(\"You: \")\n",
    "    \n",
    "    # Check for exit condition\n",
    "    if user_message.lower() in ['quit', 'exit']:\n",
    "        print(\"Goodbye!\")\n",
    "        break\n",
    "    \n",
    "    # Add user message to history\n",
    "    messages.append({\n",
    "        'role': 'user',\n",
    "        'content': user_message\n",
    "    })\n",
    "    \n",
    "    assistant_message = send_llm(messages)\n",
    "    \n",
    "    # Add assistant response to history\n",
    "    messages.append({\n",
    "        'role': 'assistant',\n",
    "        'content': assistant_message\n",
    "    })\n",
    "    \n",
    "    # Clear previous output and show the entire conversation\n",
    "    clear_output(wait=True)\n",
    "    for msg in messages:\n",
    "        if msg['role'] == 'user':\n",
    "            print(f\"You: {msg['content']}\")\n",
    "        else:\n",
    "            print(f\"Assistant: {msg['content']}\")\n",
    "    print(\"\\n\" + \"-\"*50 + \"\\n\")"
   ]
  },
  {
   "cell_type": "code",
   "execution_count": null,
   "id": "c87b5513-b7cb-481e-831a-fe1fee6573ee",
   "metadata": {},
   "outputs": [],
   "source": [
    "!ls\n"
   ]
  },
  {
   "cell_type": "code",
   "execution_count": null,
   "id": "8dc96947-a62f-42b5-9922-000e6d57c62b",
   "metadata": {},
   "outputs": [],
   "source": []
  }
 ],
 "metadata": {
  "kernelspec": {
   "display_name": "Python 3 (ipykernel)",
   "language": "python",
   "name": "python3"
  },
  "language_info": {
   "codemirror_mode": {
    "name": "ipython",
    "version": 3
   },
   "file_extension": ".py",
   "mimetype": "text/x-python",
   "name": "python",
   "nbconvert_exporter": "python",
   "pygments_lexer": "ipython3",
   "version": "3.10.12"
  }
 },
 "nbformat": 4,
 "nbformat_minor": 5
}
